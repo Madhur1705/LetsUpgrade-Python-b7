{
 "cells": [
  {
   "cell_type": "code",
   "execution_count": 1,
   "metadata": {},
   "outputs": [
    {
     "name": "stdout",
     "output_type": "stream",
     "text": [
      "Enter the value in ft:45\n",
      "Land the plane\n"
     ]
    }
   ],
   "source": [
    "a=int(input(\"Enter the value in ft:\")) \n",
    "if(a == 1000):\n",
    "    print(\"Safe to land\")\n",
    "elif(a<1000):\n",
    "    print(\"Land the plane\")\n",
    "elif(a>1000 and a<5000):\n",
    "    print(\"Bring down to 1000ft\")\n",
    "else:\n",
    "    print(\"Turn Around\")\n",
    "    \n",
    "    "
   ]
  },
  {
   "cell_type": "code",
   "execution_count": null,
   "metadata": {},
   "outputs": [],
   "source": []
  }
 ],
 "metadata": {
  "kernelspec": {
   "display_name": "Python 3",
   "language": "python",
   "name": "python3"
  },
  "language_info": {
   "codemirror_mode": {
    "name": "ipython",
    "version": 3
   },
   "file_extension": ".py",
   "mimetype": "text/x-python",
   "name": "python",
   "nbconvert_exporter": "python",
   "pygments_lexer": "ipython3",
   "version": "3.7.4"
  }
 },
 "nbformat": 4,
 "nbformat_minor": 2
}
